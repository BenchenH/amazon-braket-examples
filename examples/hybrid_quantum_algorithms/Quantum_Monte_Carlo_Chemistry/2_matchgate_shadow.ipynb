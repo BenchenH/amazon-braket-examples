{
 "cells": [
  {
   "cell_type": "markdown",
   "id": "73b11dd5",
   "metadata": {},
   "source": [
    "# Quantum Monte Carlo on Quantum Computers\n",
    "\n",
    "In the previous notebook, we have extensively discussed the motivation for incorporating quantum computing into the classical QMC algorithms for better accuracy. And we have explored using vacuum reference circuits to evaluate $\\langle\\Psi_Q|\\phi\\rangle, \\langle\\Psi_Q|H|\\phi\\rangle$ at every timestep of the imaginary time evolution process. In this notebook, we are going to investigate an alternative approach--classical shadows [1], to evaluate these intermediate quantities on classical computers.\n",
    "\n",
    "<div class=\"alert alert-block alert-info\">\n",
    "<b>Note:</b> The code in this notebook has option to use multiprocessing for computations. A notebook instance with multiple CPU cores is required to use multiprocessing. With a ml.m5.24xlarge notebook instance, the code takes about 260 minutes in total to run in this notebook, which will incur charge for about \\$24.0 USD. The notebook also creates a Braket job to compute a scaled-up QMC workload that takes about 30 minutes with a ml.m5.24xlarge job instance, which will incur charge for about \\$144.8 USD.\n",
    "</div>"
   ]
  },
  {
   "cell_type": "code",
   "execution_count": 1,
   "id": "6d69834d",
   "metadata": {},
   "outputs": [],
   "source": [
    "import time\n",
    "import numpy as np\n",
    "import pennylane as qml\n",
    "from typing import Callable, List, Tuple\n",
    "\n",
    "np.set_printoptions(precision=6, edgeitems=10, linewidth=150, suppress=True)"
   ]
  },
  {
   "cell_type": "code",
   "execution_count": 2,
   "id": "de2e7c00",
   "metadata": {},
   "outputs": [],
   "source": [
    "# define the ansatz circuit\n",
    "\n",
    "def V_T():\n",
    "    qml.DoubleExcitation(0.12, wires=[0,1,2,3])"
   ]
  },
  {
   "cell_type": "code",
   "execution_count": 3,
   "id": "a15fc17c",
   "metadata": {},
   "outputs": [
    {
     "name": "stdout",
     "output_type": "stream",
     "text": [
      "converged SCF energy = -1.1161514489386\n"
     ]
    }
   ],
   "source": [
    "###########################################################\n",
    "# Prepare the necessary operators for AFQMC calculations. #\n",
    "###########################################################\n",
    "\n",
    "from pyscf import fci, gto, scf\n",
    "from afqmc.utils.chemical_preparation import chemistry_preparation\n",
    "\n",
    "# perform HF calculations\n",
    "mol = gto.M(atom=\"H 0. 0. 0.; H 0. 0. 0.75\", basis=\"sto-3g\")\n",
    "hf = mol.RHF()\n",
    "hf.kernel()\n",
    "\n",
    "# perform full configuration interaction (FCI) calculations\n",
    "myci = fci.FCI(hf)\n",
    "myci.kernel()\n",
    "\n",
    "prop = chemistry_preparation(mol, hf)"
   ]
  },
  {
   "cell_type": "markdown",
   "id": "8c9c9730",
   "metadata": {},
   "source": [
    "## Part I. Classical shadows\n",
    "\n",
    "Estimating properties of unknown quantum states is a key objective of quantum information science and technology. As in our example case, we are seeking $\\langle\\Psi_Q|\\phi\\rangle$ and $\\langle\\Psi_Q|H|\\phi\\rangle$ where $|\\Psi_Q\\rangle$ is prepared on the quantum computer. However, conventional approach for calculating these quantities like quantum state tomography [2] usually requires a substantial amount of measurements. \n",
    "\n",
    "Classical shadow is an alternative way to efficiently (but approximately) estimate expectation values of many physical observables with respect to an unknown quantum state $\\rho$ on classical computers [1]. The protocol involves randomized measurements (random unitary rotation $U$ and projective measurements outcome $|b\\rangle$) to reconstruct the unknown quantum state\n",
    "\n",
    "$$\n",
    "\\rho = \\mathbb{E}_{U\\sim \\mathcal{D}} \\left[\\mathcal{M}^{-1} \\left(U^\\dagger|b\\rangle\\langle b| U\\right)\\right],\n",
    "$$\n",
    "\n",
    "where the random unitary $U$ is sampled from certain distribution $\\mathcal{D}$, and $\\mathcal{M}$ represents the quantum channel that maps $\\rho$ to $U^\\dagger|b\\rangle\\langle b|U$. A schematic representation of the shadow protocol is shown in the figure below.\n",
    "\n",
    "<figure style=\"text-align: center;\">\n",
    "    <img src=\"images/classical_shadow_overview.png\" width=\"800\">\n",
    "    <figcaption>Image from Huang et al. [2].</figcaption>\n",
    "</figure>\n",
    "\n",
    "To estimate each expectation value within error $\\epsilon$ with probability at least $1 − \\delta$, it requires a number of measurements that scale logarithmically with the number of observables $M$ as\n",
    "$$\n",
    "N_\\text{sample} = O\\left(\\frac{\\text{log}(M/\\delta)}{\\epsilon^2} \\max_{1<i<M} \\text{Var}[\\hat{o}_i]\\right),\n",
    "$$\n",
    "\n",
    "where $\\text{Var}[\\hat{o}_i]$ represents the variance of estimator $\\hat{o}_i = \\text{tr}(O_i\\rho)$. For more details of shadow tomography, check Ref. [1] and this [PennyLane demo](https://pennylane.ai/qml/demos/tutorial_classical_shadows).\n",
    "\n",
    "\n",
    "One characteristic of the QC-AFQMC algorithm that makes classical shadow particularly appealling is that the quantum trial state, i.e., $|\\Psi_Q\\rangle$ (as the only quantum computing component), doesn't change during the evolution of the algorithm. If we apply shadow protocol on top of $|\\Psi_Q\\rangle$ at the beginning of the calculation, the measured classical shadows can be kept in classical memory and re-used for all $|\\phi_l\\rangle$. This would rescue the QC-AFQMC algorithm from iterative communication between quantum and classical hardware. To fit the overlap $\\langle\\Psi_Q|\\phi\\rangle$ into the shadow tomography framework, we re-write it into the expectation value of an observable as\n",
    "\n",
    "$$\n",
    "\\langle \\Psi_Q|\\phi\\rangle = 2 \\text{tr}\\left(|\\phi\\rangle \\langle \\mathbf{0}| \\rho\\right),\n",
    "$$\n",
    "\n",
    "where $\\rho$ represents the density matrix of $\\frac{1}{\\sqrt{2}}\\left(|\\Psi_Q\\rangle + |\\mathbf{0}\\rangle\\right)$, and $|\\mathbf{0}\\rangle$ represents the all-0 state. For the shadow protocol to recover these overlaps, we use specifically the Matchgate circuit ($U$) for random rotation, because it has been shown to result in efficient classical post-processing [3]. The actual classical post-processing is a little bit involved, and has a $O(N^4)$ scaling with respect to system sizes $N$ [3]. We will not go over the computation details here, but direct the interested reader to look at Sec. 3.3.3 of Ref. [3] or App. D in Ref. [4] for derivations and the `ovlp_construction` function in the following folder `afqmc/utils/matchgate` for its implementation. We would like to emphasize that in post-processing the classical shadows, we have used the [Numba](https://numba.pydata.org/) package to accelerate the massive matrix operations. You might also consider using GPUs to accelerate this process, which we leave to the motivated readers.\n",
    "\n",
    "\n",
    "Then we look at the slightly more complicated case--mixed estimator of the Hamiltonian $\\langle \\Psi_Q|H|\\phi\\rangle$. A direct workaround is to think of $H$ as a linear combination of $O(N^4)$ number of excitation operators, and re-express $H|\\phi\\rangle = \\sum_j|\\phi_j\\rangle$. Then the estimator can be converted to $\\sum_j \\langle\\Psi_Q|\\phi_j\\rangle$. Each overlap in this sum can be estimated via the classical shadows. We direct the interested readers to App. B in Ref. [4] for more details. Therefore, we see that both quantities can be reformulated to fit into shadow tomography, and we can benefit from the desirable scaling of quantum resource. \n",
    "\n",
    "\n",
    "One drawback of the classical shadow's approach for QC-AFQMC, despite significant savings in the quantum computing resources, is that it increases the classical post-processing cost from $O(N^3)$ to $O(N^{8.5})$ [4]. This limits the algorithm to only small system sizes. We note that Ref. [5,6] have proposed better classical post-processing routines that leverage algorithmic differentiation to reduce the scaling to $O(N^{5.5})$. In this tutorial, we stick to the relatively high scaling implementation proposed in Ref. [3], and leave it to the readers to explore the more advanced solution."
   ]
  },
  {
   "cell_type": "code",
   "execution_count": 4,
   "id": "d440644e",
   "metadata": {},
   "outputs": [
    {
     "name": "stderr",
     "output_type": "stream",
     "text": [
      "/home/ec2-user/SageMaker/QC-QMC/afqmc/utils/matchgate.py:197: NumbaPerformanceWarning: \u001b[1m\u001b[1m'@' is faster on contiguous arrays, called on (Array(complex128, 2, 'C', False, aligned=True), Array(complex128, 2, 'A', False, aligned=True))\u001b[0m\u001b[0m\n",
      "  COMP = W.conj() @ Q_tilde.T @ Q.T @ b_cov @ Q @ Q_tilde @ W.conj().T\n"
     ]
    }
   ],
   "source": [
    "###################################################\n",
    "# Construct shadow circuits for hydrogen molecule #\n",
    "###################################################\n",
    "\n",
    "from afqmc.utils.shadow import calculate_classical_shadow\n",
    "from afqmc.utils.matchgate import gaussian_givens_decomposition\n",
    "\n",
    "num_qubits = 4\n",
    "dev = qml.device(\"lightning.qubit\", wires=num_qubits, shots=100)\n",
    "@qml.qnode(dev)\n",
    "def hydrogen_shadow_circuit(Q):\n",
    "    qml.Hadamard(wires=0)\n",
    "    qml.CNOT(wires=[0, 1])\n",
    "    V_T()\n",
    "    \n",
    "    gaussian_givens_decomposition(Q)\n",
    "    return qml.counts()"
   ]
  },
  {
   "cell_type": "markdown",
   "id": "eee9693b",
   "metadata": {},
   "source": [
    "After defining the quantum circuits used for shadow tomography, we go ahead and collect these measurement outcomes. We will also use the PennyLane simulator as the backend for running these circuits."
   ]
  },
  {
   "cell_type": "code",
   "execution_count": 5,
   "id": "39f996b8",
   "metadata": {},
   "outputs": [
    {
     "name": "stdout",
     "output_type": "stream",
     "text": [
      "CPU times: user 17.1 s, sys: 43.1 ms, total: 17.1 s\n",
      "Wall time: 17.1 s\n"
     ]
    }
   ],
   "source": [
    "%%time\n",
    "\n",
    "shadow = calculate_classical_shadow(hydrogen_shadow_circuit, 4000, num_qubits)"
   ]
  },
  {
   "cell_type": "markdown",
   "id": "4e7e7407",
   "metadata": {},
   "source": [
    "## Part II. Calculating the ground state of H$_2$\n",
    "\n",
    "With all the classical shadows collected, we proceed to execute the AFQMC subroutine. As usual, we start by constructing the quantum trial state $|\\Psi_Q\\rangle$."
   ]
  },
  {
   "cell_type": "code",
   "execution_count": 6,
   "id": "7d117f8d",
   "metadata": {},
   "outputs": [],
   "source": [
    "from afqmc.trial_wavefunction.quantum_ovlp import QTrial\n",
    "from afqmc.qmc.quantum_shadow import cqa_afqmc\n",
    "\n",
    "## reference\n",
    "psi0 = np.array([[1,0], [0,1], [0,0], [0,0]])\n",
    "Angstrom_to_Bohr = 1.88973\n",
    "\n",
    "symbols = [\"H\", \"H\"]\n",
    "geometry = np.array([[0., 0., 0.], [0., 0., 0.75*Angstrom_to_Bohr]])\n",
    "hamiltonian, _ = qml.qchem.molecular_hamiltonian(symbols, geometry, charge=0, basis='sto-3g')\n",
    "\n",
    "qtrial = QTrial(prop=prop, initial_state=[0, 1], ansatz_circuit=V_T, ifshadow=True, shadow=shadow)"
   ]
  },
  {
   "cell_type": "markdown",
   "id": "303c542c",
   "metadata": {},
   "source": [
    "<div class=\"alert alert-block alert-info\">\n",
    "<b>Note</b> The following cell of QC-AFQMC calculation will take about 260 minutes with 48 core parallelization. You may need to execute the notebook on a notebook instance with more than 2 CPU cores to utilize multi-core parallelization. We executed this notebook on a m5.24xlarge instance.\n",
    "</div>"
   ]
  },
  {
   "cell_type": "code",
   "execution_count": null,
   "id": "ca781b7a",
   "metadata": {},
   "outputs": [
    {
     "name": "stdout",
     "output_type": "stream",
     "text": [
      "CPU times: user 1min 5s, sys: 3.84 s, total: 1min 9s\n",
      "Wall time: 4h 15min 7s\n"
     ]
    }
   ],
   "source": [
    "%%time\n",
    "\n",
    "dtau = 0.005\n",
    "num_steps = 100\n",
    "num_walkers = 1440\n",
    "\n",
    "quantum_energies = cqa_afqmc(\n",
    "    num_walkers,\n",
    "    num_steps,\n",
    "    dtau,\n",
    "    qtrial,\n",
    "    hamiltonian,\n",
    "    psi0,\n",
    "    max_pool=48,\n",
    ")"
   ]
  },
  {
   "cell_type": "markdown",
   "id": "dd21a5a6",
   "metadata": {},
   "source": [
    "### Classical AFQMC\n",
    "\n",
    "We also perform a classical AFQMC calculation for better comparisons. And the procedure is identical to what has been shown in the previous notebook."
   ]
  },
  {
   "cell_type": "code",
   "execution_count": 12,
   "id": "ab181ff7",
   "metadata": {},
   "outputs": [
    {
     "name": "stdout",
     "output_type": "stream",
     "text": [
      "CPU times: user 1.82 s, sys: 964 ms, total: 2.78 s\n",
      "Wall time: 3min 31s\n"
     ]
    }
   ],
   "source": [
    "%%time\n",
    "from afqmc.trial_wavefunction.single_slater import SingleSlater\n",
    "from afqmc.qmc.classical import classical_afqmc\n",
    "\n",
    "dtau = 0.005\n",
    "num_steps = 600\n",
    "num_walkers = 1440\n",
    "trial = SingleSlater(prop, psi0)\n",
    "\n",
    "local_energies, energies = classical_afqmc(\n",
    "    num_walkers,\n",
    "    num_steps,\n",
    "    dtau,\n",
    "    trial,\n",
    "    prop,\n",
    "    max_pool=48,\n",
    ")"
   ]
  },
  {
   "cell_type": "code",
   "execution_count": 17,
   "id": "a5f94f40",
   "metadata": {},
   "outputs": [
    {
     "data": {
      "image/png": "[encoded data removed]",
      "text/plain": [
       "<Figure size 640x480 with 1 Axes>"
      ]
     },
     "metadata": {},
     "output_type": "display_data"
    }
   ],
   "source": [
    "import matplotlib.pyplot as plt\n",
    "\n",
    "plt.plot(\n",
    "    dtau * np.arange(100),\n",
    "    quantum_energies,\n",
    "    linestyle=\"dashed\",\n",
    "    marker=\".\",\n",
    "    color=\"tab:orange\",\n",
    "    label=\"Matchgate shadow\",\n",
    ")\n",
    "plt.plot(\n",
    "    dtau * np.arange(600),\n",
    "    energies,\n",
    "    linestyle=\"dashed\",\n",
    "    marker=\".\",\n",
    "    color=\"tab:blue\",\n",
    "    label=\"Classical\",\n",
    ")\n",
    "plt.axhline(-1.137117067345732, linestyle=\"dashed\", color=\"black\")\n",
    "plt.legend(fontsize=14, loc=\"best\")\n",
    "plt.xlabel(r\"$\\tau$\", fontsize=14)\n",
    "plt.ylabel(\"Energy [H.a.]\", fontsize=14)\n",
    "plt.tick_params(labelsize=14)\n",
    "plt.show()"
   ]
  },
  {
   "cell_type": "markdown",
   "id": "4a16b491",
   "metadata": {},
   "source": [
    "The Matchgate shadow results shouldn't look much different from the quantum results with vacuum reference circuits that we obtained in the previous lab. And this is within our expectation, since they only differ by means to evaluate these intermediate quantities $\\langle\\Psi_Q|\\phi_l\\rangle$, $\\langle\\Psi_Q|H|\\phi_l\\rangle$, but the end results should almost be identical (shadow tomography is approximate but the deviation should be small). One thing you may have noticed is that it takes longer time to run the same number of time steps with Matchgate shadows. This is because at this small scale with only 4 qubits, the simulator running quantum circuits is much faster than the classical post-processing of shadows.\n",
    "\n",
    "To run a full time QC-AFQMC with shadows, we resort to Hybrid Jobs again like how we did it in the previous lab. The input job script `run_matchgate_shadow.py` has been provided to you.\n",
    "\n",
    "\n",
    "## Part III. Scaling the computation with Hybrid Jobs\n",
    "\n",
    "In the next few cells, we submit a full time QC-AFQMC hybrid job with Matchgate shadows.\n",
    "\n",
    "<div class=\"alert alert-block alert-info\">\n",
    "<b>Note</b> The following cell of QC-AFQMC Braket hybrid job will take about 25.5 hours with 48 core parallelization. You may need to execute the notebook on a notebook instance with more than 2 CPU cores to utilize multi-core parallelization. We executed this notebook on a m5.24xlarge instance.\n",
    "</div>"
   ]
  },
  {
   "cell_type": "code",
   "execution_count": 15,
   "id": "89c84f90",
   "metadata": {},
   "outputs": [],
   "source": [
    "from braket.aws import AwsQuantumJob\n",
    "from braket.jobs.config import InstanceConfig\n",
    "\n",
    "job = AwsQuantumJob.create(\n",
    "    device=\"local:pennylane/lightning.qubit\",\n",
    "    source_module=\"afqmc\",\n",
    "    entry_point=\"afqmc.run_matchgate_shadow:run\",\n",
    "    job_name=f\"matchgate-shadow-\" + str(int(time.time())),\n",
    "    instance_config=InstanceConfig(instanceType=\"ml.m5.24xlarge\"),\n",
    "    hyperparameters={\n",
    "        \"num_shadows\": 4000,\n",
    "        \"shots\": 100,\n",
    "        \"num_walkers\": 1440,\n",
    "        \"num_steps\": 600,\n",
    "        \"dtau\": 0.005,\n",
    "        \"max_pool\": 48,\n",
    "    },\n",
    ")"
   ]
  },
  {
   "cell_type": "code",
   "execution_count": null,
   "id": "52a8dd1a",
   "metadata": {},
   "outputs": [],
   "source": [
    "result = job.result()\n",
    "elapsed = result[\"elapsed\"]\n",
    "print(f\"Elapsed time of job: {round(elapsed/60,1)} mins\")"
   ]
  },
  {
   "cell_type": "code",
   "execution_count": null,
   "id": "6898c529",
   "metadata": {},
   "outputs": [],
   "source": [
    "%matplotlib inline\n",
    "plt.plot(\n",
    "    dtau * np.arange(600),\n",
    "    energies,\n",
    "    linestyle=\"dashed\",\n",
    "    marker=\".\",\n",
    "    color=\"tab:blue\",\n",
    "    label=\"Classical\",\n",
    ")\n",
    "plt.plot(\n",
    "    dtau * np.arange(600),\n",
    "    result[\"quantum_energies\"],\n",
    "    linestyle=\"dashed\",\n",
    "    marker=\".\",\n",
    "    color=\"tab:orange\",\n",
    "    label=\"Vacuum reference\",\n",
    ")\n",
    "plt.axhline(-1.137117067345732, linestyle=\"dashed\", color=\"black\")\n",
    "plt.legend(fontsize=14, loc=\"upper right\")\n",
    "plt.xlabel(r\"$\\tau$\", fontsize=14)\n",
    "plt.ylabel(\"Energy\", fontsize=14)\n",
    "plt.yticks(fontsize=14)\n",
    "plt.tick_params(direction=\"in\", labelsize=14)\n",
    "plt.show()"
   ]
  },
  {
   "cell_type": "markdown",
   "id": "0d84fc11",
   "metadata": {},
   "source": [
    "## Conclusion\n",
    "\n",
    "\n",
    "This notebook demonstrates how classical algorithms for quantum Monte Carlo can be augmented with quantum hardware. We explored a variant of QMC, auxiliary-field quantum Monte Carlo, which finds the ground state by performing a stochastic imaginary time evolution of an input state. This evolution is driven by computing the overlaps between a predefined trial state, and an ensemble of non-interacting walker states.\n",
    "\n",
    "Using a quantum device, we can use a more flexible trial state, which may provide a better approximation to the ground state. We illustrated how the overlaps between the quantum trial state and classical walker states can be evaluated using quantum circuits on quantum backend that can be accessed with Amazon Braket. \n",
    "\n",
    "We also illustrated the classical and quantum AFQMC algorithms by applying them to the hydrogen molecule. Even for this toy system, the quantum assisted approach realized quantifiable benefits by reducing the variance of the calculated energy.\n",
    "\n",
    "We expect that for larger system sizes, QC-AFQMC algorithm will also reduce the bias in ground state energies compared to purely classical AFQMC. \n",
    "\n",
    "Overall, quantum-assisted quantum Monte Carlo is a new and interesting route to potentially achieve quantum benefits for chemical calculations."
   ]
  },
  {
   "cell_type": "markdown",
   "id": "357999f1",
   "metadata": {},
   "source": [
    "## References\n",
    "\n",
    "[1] Huang, Hsin-Yuan, Richard Kueng, and John Preskill. \"Predicting many properties of a quantum system from very few measurements.\" [Nature Physics 16.10 (2020): 1050-1057](https://www.nature.com/articles/s41567-020-0932-7).\n",
    "\n",
    "[2] Vogel, K., and H. Risken. \"Determination of quasiprobability distributions in terms of probability distributions for the rotated quadrature phase.\" [Physical Review A 40.5 (1989): 2847](https://journals.aps.org/pra/abstract/10.1103/PhysRevA.40.2847).\n",
    "\n",
    "[3] Wan, Kianna, et al. \"Matchgate shadows for fermionic quantum simulation.\" [Communications in Mathematical Physics 404.2 (2023): 629-700](https://link.springer.com/article/10.1007/s00220-023-04844-0).\n",
    "\n",
    "[4] Huang, Benchen, et al. \"Evaluating a quantum-classical quantum Monte Carlo algorithm with Matchgate shadows.\" [Physical Review Research 6.4 (2024): 043063](https://journals.aps.org/prresearch/abstract/10.1103/PhysRevResearch.6.043063).\n",
    "\n",
    "[5] Jiang, Tong, et al. \"Unbiasing fermionic auxiliary-field quantum Monte Carlo with matrix product state trial wavefunctions.\" [Physical Review Research 7.1 (2025): 013038](https://journals.aps.org/prresearch/abstract/10.1103/PhysRevResearch.7.013038).\n",
    "\n",
    "[6] Zhao, Luning, et al. \"Quantum-Classical Auxiliary Field Quantum Monte Carlo with Matchgate Shadows on Trapped Ion Quantum Computers.\" [arXiv:2506.22408 (2025)](https://arxiv.org/abs/2506.22408)."
   ]
  }
 ],
 "metadata": {
  "kernelspec": {
   "display_name": "conda_braket",
   "language": "python",
   "name": "conda_braket"
  },
  "language_info": {
   "codemirror_mode": {
    "name": "ipython",
    "version": 3
   },
   "file_extension": ".py",
   "mimetype": "text/x-python",
   "name": "python",
   "nbconvert_exporter": "python",
   "pygments_lexer": "ipython3",
   "version": "3.10.19"
  }
 },
 "nbformat": 4,
 "nbformat_minor": 5
}
